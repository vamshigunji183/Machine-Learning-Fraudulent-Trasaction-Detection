{
 "cells": [
  {
   "cell_type": "markdown",
   "metadata": {},
   "source": [
    "# Credit Card Fraud"
   ]
  },
  {
   "cell_type": "markdown",
   "metadata": {},
   "source": [
    "We will be detecting credit card fraud based on the different features of our dataset with 3 different models. Here is the Logistic Regression one.\n",
    "\n",
    "We're looking to minimize the False Negative Rate or FNR.\n",
    "\n",
    "Since the dataset is unbalanced, we can try two techniques that may help us have better predictions:\n",
    "\n",
    "    - Adding some noise (gaussian) to the fraud data to create more and reduce the imbalance\n",
    "    - Randomly sample the fraud data and train k models and average them out (or choose the best)\n",
    "    \n",
    " "
   ]
  },
  {
   "cell_type": "code",
   "execution_count": 1,
   "metadata": {},
   "outputs": [
    {
     "name": "stderr",
     "output_type": "stream",
     "text": [
      "/Users/karthikanand/anaconda3/lib/python3.7/site-packages/sklearn/externals/six.py:31: DeprecationWarning: The module is deprecated in version 0.21 and will be removed in version 0.23 since we've dropped support for Python 2.7. Please rely on the official version of six (https://pypi.org/project/six/).\n",
      "  \"(https://pypi.org/project/six/).\", DeprecationWarning)\n"
     ]
    }
   ],
   "source": [
    "import numpy as np\n",
    "import sklearn as sk\n",
    "import pandas as pd\n",
    "import matplotlib.pyplot as plt\n",
    "from pandas_ml import ConfusionMatrix\n",
    "import pandas_ml as pdml\n",
    "from sklearn.preprocessing import scale\n",
    "import random"
   ]
  },
  {
   "cell_type": "code",
   "execution_count": 6,
   "metadata": {},
   "outputs": [],
   "source": [
    "# May have to do this...\n",
    "#!pip install imblearn\n",
    "#!pip install --upgrade sklearn\n",
    "%matplotlib inline"
   ]
  },
  {
   "cell_type": "code",
   "execution_count": 7,
   "metadata": {},
   "outputs": [
    {
     "data": {
      "text/html": [
       "<div>\n",
       "<style scoped>\n",
       "    .dataframe tbody tr th:only-of-type {\n",
       "        vertical-align: middle;\n",
       "    }\n",
       "\n",
       "    .dataframe tbody tr th {\n",
       "        vertical-align: top;\n",
       "    }\n",
       "\n",
       "    .dataframe thead th {\n",
       "        text-align: right;\n",
       "    }\n",
       "</style>\n",
       "<table border=\"1\" class=\"dataframe\">\n",
       "  <thead>\n",
       "    <tr style=\"text-align: right;\">\n",
       "      <th></th>\n",
       "      <th>Time</th>\n",
       "      <th>V1</th>\n",
       "      <th>V2</th>\n",
       "      <th>V3</th>\n",
       "      <th>V4</th>\n",
       "      <th>V5</th>\n",
       "      <th>V6</th>\n",
       "      <th>V7</th>\n",
       "      <th>V8</th>\n",
       "      <th>V9</th>\n",
       "      <th>...</th>\n",
       "      <th>V21</th>\n",
       "      <th>V22</th>\n",
       "      <th>V23</th>\n",
       "      <th>V24</th>\n",
       "      <th>V25</th>\n",
       "      <th>V26</th>\n",
       "      <th>V27</th>\n",
       "      <th>V28</th>\n",
       "      <th>Amount</th>\n",
       "      <th>Class</th>\n",
       "    </tr>\n",
       "  </thead>\n",
       "  <tbody>\n",
       "    <tr>\n",
       "      <th>0</th>\n",
       "      <td>162688.0</td>\n",
       "      <td>2.029012</td>\n",
       "      <td>0.172635</td>\n",
       "      <td>-1.713242</td>\n",
       "      <td>0.536619</td>\n",
       "      <td>0.174828</td>\n",
       "      <td>-1.438235</td>\n",
       "      <td>0.271940</td>\n",
       "      <td>-0.371993</td>\n",
       "      <td>0.591460</td>\n",
       "      <td>...</td>\n",
       "      <td>0.207313</td>\n",
       "      <td>0.758169</td>\n",
       "      <td>-0.022307</td>\n",
       "      <td>-0.076973</td>\n",
       "      <td>0.233854</td>\n",
       "      <td>-0.099335</td>\n",
       "      <td>-0.001211</td>\n",
       "      <td>-0.029970</td>\n",
       "      <td>13.49</td>\n",
       "      <td>0</td>\n",
       "    </tr>\n",
       "    <tr>\n",
       "      <th>1</th>\n",
       "      <td>51268.0</td>\n",
       "      <td>-0.539429</td>\n",
       "      <td>0.281131</td>\n",
       "      <td>1.410987</td>\n",
       "      <td>-2.018694</td>\n",
       "      <td>0.263857</td>\n",
       "      <td>-0.890316</td>\n",
       "      <td>0.932979</td>\n",
       "      <td>-0.343308</td>\n",
       "      <td>-1.526425</td>\n",
       "      <td>...</td>\n",
       "      <td>0.207052</td>\n",
       "      <td>0.574397</td>\n",
       "      <td>-0.449829</td>\n",
       "      <td>0.088753</td>\n",
       "      <td>0.712234</td>\n",
       "      <td>-0.204066</td>\n",
       "      <td>-0.175816</td>\n",
       "      <td>-0.188002</td>\n",
       "      <td>15.00</td>\n",
       "      <td>0</td>\n",
       "    </tr>\n",
       "    <tr>\n",
       "      <th>2</th>\n",
       "      <td>122407.0</td>\n",
       "      <td>-1.328733</td>\n",
       "      <td>1.039159</td>\n",
       "      <td>-1.968735</td>\n",
       "      <td>-0.355384</td>\n",
       "      <td>-0.335289</td>\n",
       "      <td>1.818371</td>\n",
       "      <td>1.201645</td>\n",
       "      <td>-1.218494</td>\n",
       "      <td>-0.209533</td>\n",
       "      <td>...</td>\n",
       "      <td>1.770539</td>\n",
       "      <td>0.927960</td>\n",
       "      <td>0.385005</td>\n",
       "      <td>-1.491069</td>\n",
       "      <td>-0.451834</td>\n",
       "      <td>-0.025789</td>\n",
       "      <td>0.231979</td>\n",
       "      <td>-0.146438</td>\n",
       "      <td>333.20</td>\n",
       "      <td>0</td>\n",
       "    </tr>\n",
       "    <tr>\n",
       "      <th>3</th>\n",
       "      <td>84341.0</td>\n",
       "      <td>-1.154759</td>\n",
       "      <td>0.639114</td>\n",
       "      <td>1.038852</td>\n",
       "      <td>-1.146102</td>\n",
       "      <td>2.004695</td>\n",
       "      <td>4.131545</td>\n",
       "      <td>-0.301740</td>\n",
       "      <td>0.927599</td>\n",
       "      <td>0.644301</td>\n",
       "      <td>...</td>\n",
       "      <td>-0.204654</td>\n",
       "      <td>-0.296894</td>\n",
       "      <td>-0.290252</td>\n",
       "      <td>1.031124</td>\n",
       "      <td>0.397492</td>\n",
       "      <td>0.335932</td>\n",
       "      <td>-0.012364</td>\n",
       "      <td>-0.029790</td>\n",
       "      <td>10.49</td>\n",
       "      <td>0</td>\n",
       "    </tr>\n",
       "    <tr>\n",
       "      <th>4</th>\n",
       "      <td>22509.0</td>\n",
       "      <td>1.294186</td>\n",
       "      <td>0.939724</td>\n",
       "      <td>-0.060676</td>\n",
       "      <td>2.480072</td>\n",
       "      <td>0.799090</td>\n",
       "      <td>-0.291020</td>\n",
       "      <td>0.541627</td>\n",
       "      <td>-0.382965</td>\n",
       "      <td>0.094943</td>\n",
       "      <td>...</td>\n",
       "      <td>-0.206610</td>\n",
       "      <td>-0.298167</td>\n",
       "      <td>-0.210986</td>\n",
       "      <td>-0.482992</td>\n",
       "      <td>0.862044</td>\n",
       "      <td>0.078045</td>\n",
       "      <td>-0.058997</td>\n",
       "      <td>-0.002331</td>\n",
       "      <td>2.05</td>\n",
       "      <td>0</td>\n",
       "    </tr>\n",
       "  </tbody>\n",
       "</table>\n",
       "<p>5 rows × 31 columns</p>\n",
       "</div>"
      ],
      "text/plain": [
       "       Time        V1        V2        V3        V4        V5        V6  \\\n",
       "0  162688.0  2.029012  0.172635 -1.713242  0.536619  0.174828 -1.438235   \n",
       "1   51268.0 -0.539429  0.281131  1.410987 -2.018694  0.263857 -0.890316   \n",
       "2  122407.0 -1.328733  1.039159 -1.968735 -0.355384 -0.335289  1.818371   \n",
       "3   84341.0 -1.154759  0.639114  1.038852 -1.146102  2.004695  4.131545   \n",
       "4   22509.0  1.294186  0.939724 -0.060676  2.480072  0.799090 -0.291020   \n",
       "\n",
       "         V7        V8        V9  ...         V21       V22       V23  \\\n",
       "0  0.271940 -0.371993  0.591460  ...    0.207313  0.758169 -0.022307   \n",
       "1  0.932979 -0.343308 -1.526425  ...    0.207052  0.574397 -0.449829   \n",
       "2  1.201645 -1.218494 -0.209533  ...    1.770539  0.927960  0.385005   \n",
       "3 -0.301740  0.927599  0.644301  ...   -0.204654 -0.296894 -0.290252   \n",
       "4  0.541627 -0.382965  0.094943  ...   -0.206610 -0.298167 -0.210986   \n",
       "\n",
       "        V24       V25       V26       V27       V28  Amount  Class  \n",
       "0 -0.076973  0.233854 -0.099335 -0.001211 -0.029970   13.49      0  \n",
       "1  0.088753  0.712234 -0.204066 -0.175816 -0.188002   15.00      0  \n",
       "2 -1.491069 -0.451834 -0.025789  0.231979 -0.146438  333.20      0  \n",
       "3  1.031124  0.397492  0.335932 -0.012364 -0.029790   10.49      0  \n",
       "4 -0.482992  0.862044  0.078045 -0.058997 -0.002331    2.05      0  \n",
       "\n",
       "[5 rows x 31 columns]"
      ]
     },
     "execution_count": 7,
     "metadata": {},
     "output_type": "execute_result"
    }
   ],
   "source": [
    "df = pd.read_csv('creditcard.csv', low_memory=False)\n",
    "df = df.sample(frac=1).reset_index(drop=True)\n",
    "df.head()"
   ]
  },
  {
   "cell_type": "code",
   "execution_count": 8,
   "metadata": {},
   "outputs": [
    {
     "name": "stdout",
     "output_type": "stream",
     "text": [
      "We have 492 fraud data points and 284315 nonfraudulent data points.\n"
     ]
    }
   ],
   "source": [
    "frauds = df.loc[df['Class'] == 1]\n",
    "non_frauds = df.loc[df['Class'] == 0]\n",
    "print(\"We have\", len(frauds), \"fraud data points and\", len(non_frauds), \"nonfraudulent data points.\")"
   ]
  },
  {
   "cell_type": "code",
   "execution_count": 9,
   "metadata": {},
   "outputs": [
    {
     "data": {
      "image/png": "[encoded data removed]",
      "text/plain": [
       "<Figure size 432x288 with 1 Axes>"
      ]
     },
     "metadata": {
      "needs_background": "light"
     },
     "output_type": "display_data"
    },
    {
     "name": "stdout",
     "output_type": "stream",
     "text": [
      "This feature looks important based on their distribution with respect to class.\n",
      "We will now zoom in onto the fraud data to see the ranges of amount just for fun.\n"
     ]
    }
   ],
   "source": [
    "ax = frauds.plot.scatter(x='Amount', y='Class', color='Orange', label='Fraud')\n",
    "non_frauds.plot.scatter(x='Amount', y='Class', color='Blue', label='Normal', ax=ax)\n",
    "plt.show()\n",
    "print(\"This feature looks important based on their distribution with respect to class.\")\n",
    "print(\"We will now zoom in onto the fraud data to see the ranges of amount just for fun.\")"
   ]
  },
  {
   "cell_type": "code",
   "execution_count": 10,
   "metadata": {},
   "outputs": [
    {
     "data": {
      "image/png": "[encoded data removed]",
      "text/plain": [
       "<Figure size 432x288 with 1 Axes>"
      ]
     },
     "metadata": {
      "needs_background": "light"
     },
     "output_type": "display_data"
    }
   ],
   "source": [
    "bx = frauds.plot.scatter(x='Amount', y='Class', color='Orange', label='Fraud')\n",
    "plt.show()"
   ]
  },
  {
   "cell_type": "code",
   "execution_count": 11,
   "metadata": {},
   "outputs": [
    {
     "data": {
      "image/png": "[encoded data removed]",
      "text/plain": [
       "<Figure size 432x288 with 1 Axes>"
      ]
     },
     "metadata": {
      "needs_background": "light"
     },
     "output_type": "display_data"
    },
    {
     "name": "stdout",
     "output_type": "stream",
     "text": [
      "This feature may not be very important because of the similar distribution.\n"
     ]
    }
   ],
   "source": [
    "ax = frauds.plot.scatter(x='V22', y='Class', color='Orange', label='Fraud')\n",
    "non_frauds.plot.scatter(x='V22', y='Class', color='Blue', label='Normal', ax=ax)\n",
    "plt.show()\n",
    "print(\"This feature may not be very important because of the similar distribution.\")"
   ]
  },
  {
   "cell_type": "markdown",
   "metadata": {},
   "source": [
    "# Logistic Regression (vanilla)"
   ]
  },
  {
   "cell_type": "code",
   "execution_count": 12,
   "metadata": {},
   "outputs": [],
   "source": [
    "from sklearn import datasets, linear_model\n",
    "from sklearn.preprocessing import PolynomialFeatures\n",
    "from sklearn.model_selection import train_test_split"
   ]
  },
  {
   "cell_type": "code",
   "execution_count": 13,
   "metadata": {},
   "outputs": [
    {
     "name": "stdout",
     "output_type": "stream",
     "text": [
      "X and y sizes, respectively: 284807 284807\n",
      "Train and test sizes, respectively: 185124 185124 | 99683 99683\n",
      "Total number of frauds: 492 0.001727485630620034\n",
      "Number of frauds on y_test: 187 0.001875946751201308\n",
      "Number of frauds on y_train: 305 0.001647544348652795\n"
     ]
    }
   ],
   "source": [
    "X = df.iloc[:,:-1]\n",
    "y = df['Class']\n",
    "\n",
    "print(\"X and y sizes, respectively:\", len(X), len(y))\n",
    "\n",
    "X_train, X_test, y_train, y_test = train_test_split(X, y, test_size=0.35)\n",
    "print(\"Train and test sizes, respectively:\", len(X_train), len(y_train), \"|\", len(X_test), len(y_test))\n",
    "print(\"Total number of frauds:\", len(y.loc[df['Class'] == 1]), len(y.loc[df['Class'] == 1])/len(y))\n",
    "print(\"Number of frauds on y_test:\", len(y_test.loc[df['Class'] == 1]), len(y_test.loc[df['Class'] == 1]) / len(y_test))\n",
    "print(\"Number of frauds on y_train:\", len(y_train.loc[df['Class'] == 1]), len(y_train.loc[df['Class'] == 1])/len(y_train))"
   ]
  },
  {
   "cell_type": "code",
   "execution_count": 14,
   "metadata": {},
   "outputs": [
    {
     "name": "stderr",
     "output_type": "stream",
     "text": [
      "/Users/karthikanand/anaconda3/lib/python3.7/site-packages/sklearn/linear_model/logistic.py:432: FutureWarning: Default solver will be changed to 'lbfgs' in 0.22. Specify a solver to silence this warning.\n",
      "  FutureWarning)\n"
     ]
    },
    {
     "name": "stdout",
     "output_type": "stream",
     "text": [
      "Score:  0.9987660885005467\n"
     ]
    }
   ],
   "source": [
    "logistic = linear_model.LogisticRegression(C=1e5)\n",
    "logistic.fit(X_train, y_train)\n",
    "print(\"Score: \", logistic.score(X_test, y_test))"
   ]
  },
  {
   "cell_type": "code",
   "execution_count": 15,
   "metadata": {},
   "outputs": [],
   "source": [
    "y_predicted = np.array(logistic.predict(X_test))\n",
    "y_right = np.array(y_test)"
   ]
  },
  {
   "cell_type": "code",
   "execution_count": 16,
   "metadata": {},
   "outputs": [
    {
     "name": "stdout",
     "output_type": "stream",
     "text": [
      "Confusion matrix:\n",
      "Predicted  False  True  __all__\n",
      "Actual                         \n",
      "False      99451    45    99496\n",
      "True          78   109      187\n",
      "__all__    99529   154    99683\n"
     ]
    },
    {
     "data": {
      "image/png": "[encoded data removed]",
      "text/plain": [
       "<Figure size 648x576 with 2 Axes>"
      ]
     },
     "metadata": {
      "needs_background": "light"
     },
     "output_type": "display_data"
    },
    {
     "name": "stdout",
     "output_type": "stream",
     "text": [
      "population: 99683\n",
      "P: 187\n",
      "N: 99496\n",
      "PositiveTest: 154\n",
      "NegativeTest: 99529\n",
      "TP: 109\n",
      "TN: 99451\n",
      "FP: 45\n",
      "FN: 78\n",
      "TPR: 0.5828877005347594\n",
      "TNR: 0.9995477205113773\n",
      "PPV: 0.7077922077922078\n",
      "NPV: 0.9992163088145164\n",
      "FPR: 0.0004522794886226582\n",
      "FDR: 0.2922077922077922\n",
      "FNR: 0.41711229946524064\n",
      "ACC: 0.9987660885005467\n",
      "F1_score: 0.6392961876832844\n",
      "MCC: 0.6417061656654407\n",
      "informedness: 0.5824354210461367\n",
      "markedness: 0.7070085166067241\n",
      "prevalence: 0.001875946751201308\n",
      "LRP: 1288.7776589423647\n",
      "LRN: 0.41730103616447883\n",
      "DOR: 3088.364387464387\n",
      "FOR: 0.0007836911854836279\n"
     ]
    }
   ],
   "source": [
    "confusion_matrix = ConfusionMatrix(y_right, y_predicted)\n",
    "print(\"Confusion matrix:\\n%s\" % confusion_matrix)\n",
    "confusion_matrix.plot(normalized=True)\n",
    "plt.show()\n",
    "confusion_matrix.print_stats()"
   ]
  },
  {
   "cell_type": "code",
   "execution_count": 17,
   "metadata": {},
   "outputs": [
    {
     "name": "stdout",
     "output_type": "stream",
     "text": [
      "FNR is 0.41711229946524064\n"
     ]
    }
   ],
   "source": [
    "print(\"FNR is {0}\".format(confusion_matrix.stats()['FNR']))"
   ]
  },
  {
   "cell_type": "markdown",
   "metadata": {},
   "source": [
    "# Logistic Regression with SMOTE over-sampling"
   ]
  },
  {
   "cell_type": "code",
   "execution_count": 18,
   "metadata": {},
   "outputs": [
    {
     "name": "stdout",
     "output_type": "stream",
     "text": [
      "Size of training set after over sampling: 369638\n"
     ]
    }
   ],
   "source": [
    "df2 = pdml.ModelFrame(X_train, target=y_train)\n",
    "sampler = df2.imbalance.over_sampling.SMOTE()\n",
    "sampled = df2.fit_sample(sampler)\n",
    "print(\"Size of training set after over sampling:\", len(sampled))"
   ]
  },
  {
   "cell_type": "code",
   "execution_count": 19,
   "metadata": {},
   "outputs": [
    {
     "name": "stderr",
     "output_type": "stream",
     "text": [
      "/Users/karthikanand/anaconda3/lib/python3.7/site-packages/sklearn/linear_model/logistic.py:432: FutureWarning: Default solver will be changed to 'lbfgs' in 0.22. Specify a solver to silence this warning.\n",
      "  FutureWarning)\n"
     ]
    },
    {
     "name": "stdout",
     "output_type": "stream",
     "text": [
      "Score:  0.9848820761814954\n"
     ]
    }
   ],
   "source": [
    "X_train_sampled = sampled.iloc[:,1:]\n",
    "y_train_sampled = sampled['Class']\n",
    "\n",
    "# NOTE: Scaling makes it worse.\n",
    "# X_train_sampled = scale(X_train_sampled)\n",
    "\n",
    "logistic = linear_model.LogisticRegression(C=1e5)\n",
    "logistic.fit(X_train_sampled, y_train_sampled)\n",
    "print(\"Score: \", logistic.score(X_test, y_test))"
   ]
  },
  {
   "cell_type": "code",
   "execution_count": 20,
   "metadata": {},
   "outputs": [
    {
     "name": "stdout",
     "output_type": "stream",
     "text": [
      "Confusion matrix:\n",
      "Predicted  False  True  __all__\n",
      "Actual                         \n",
      "False      98011  1485    99496\n",
      "True          22   165      187\n",
      "__all__    98033  1650    99683\n"
     ]
    },
    {
     "data": {
      "image/png": "[encoded data removed]",
      "text/plain": [
       "<Figure size 648x576 with 2 Axes>"
      ]
     },
     "metadata": {
      "needs_background": "light"
     },
     "output_type": "display_data"
    },
    {
     "name": "stdout",
     "output_type": "stream",
     "text": [
      "population: 99683\n",
      "P: 187\n",
      "N: 99496\n",
      "PositiveTest: 1650\n",
      "NegativeTest: 98033\n",
      "TP: 165\n",
      "TN: 98011\n",
      "FP: 1485\n",
      "FN: 22\n",
      "TPR: 0.8823529411764706\n",
      "TNR: 0.9850747768754523\n",
      "PPV: 0.1\n",
      "NPV: 0.999775585772138\n",
      "FPR: 0.01492522312454772\n",
      "FDR: 0.9\n",
      "FNR: 0.11764705882352941\n",
      "ACC: 0.9848820761814954\n",
      "F1_score: 0.17964071856287425\n",
      "MCC: 0.29419059924412866\n",
      "informedness: 0.867427718051923\n",
      "markedness: 0.09977558577213808\n",
      "prevalence: 0.001875946751201308\n",
      "LRP: 59.11824123588829\n",
      "LRN: 0.1194295718307729\n",
      "DOR: 495.00505050505046\n",
      "FOR: 0.00022441422786204646\n"
     ]
    }
   ],
   "source": [
    "y_predicted1 = np.array(logistic.predict(X_test))\n",
    "y_right1 = np.array(y_test)\n",
    "\n",
    "confusion_matrix1 = ConfusionMatrix(y_right1, y_predicted1)\n",
    "print(\"Confusion matrix:\\n%s\" % confusion_matrix1)\n",
    "confusion_matrix1.plot(normalized=True)\n",
    "plt.show()\n",
    "confusion_matrix1.print_stats()"
   ]
  },
  {
   "cell_type": "code",
   "execution_count": 21,
   "metadata": {},
   "outputs": [
    {
     "name": "stdout",
     "output_type": "stream",
     "text": [
      "FNR is 0.11764705882352941\n"
     ]
    }
   ],
   "source": [
    "print(\"FNR is {0}\".format(confusion_matrix1.stats()['FNR']))"
   ]
  },
  {
   "cell_type": "markdown",
   "metadata": {},
   "source": [
    "# Logistic Regression with balanced class weights"
   ]
  },
  {
   "cell_type": "code",
   "execution_count": 22,
   "metadata": {},
   "outputs": [
    {
     "name": "stderr",
     "output_type": "stream",
     "text": [
      "/Users/karthikanand/anaconda3/lib/python3.7/site-packages/sklearn/linear_model/logistic.py:432: FutureWarning: Default solver will be changed to 'lbfgs' in 0.22. Specify a solver to silence this warning.\n",
      "  FutureWarning)\n",
      "/Users/karthikanand/anaconda3/lib/python3.7/site-packages/sklearn/linear_model/logistic.py:432: FutureWarning: Default solver will be changed to 'lbfgs' in 0.22. Specify a solver to silence this warning.\n",
      "  FutureWarning)\n",
      "/Users/karthikanand/anaconda3/lib/python3.7/site-packages/sklearn/linear_model/logistic.py:432: FutureWarning: Default solver will be changed to 'lbfgs' in 0.22. Specify a solver to silence this warning.\n",
      "  FutureWarning)\n",
      "/Users/karthikanand/anaconda3/lib/python3.7/site-packages/sklearn/linear_model/logistic.py:432: FutureWarning: Default solver will be changed to 'lbfgs' in 0.22. Specify a solver to silence this warning.\n",
      "  FutureWarning)\n",
      "/Users/karthikanand/anaconda3/lib/python3.7/site-packages/sklearn/linear_model/logistic.py:432: FutureWarning: Default solver will be changed to 'lbfgs' in 0.22. Specify a solver to silence this warning.\n",
      "  FutureWarning)\n",
      "/Users/karthikanand/anaconda3/lib/python3.7/site-packages/sklearn/linear_model/logistic.py:432: FutureWarning: Default solver will be changed to 'lbfgs' in 0.22. Specify a solver to silence this warning.\n",
      "  FutureWarning)\n",
      "/Users/karthikanand/anaconda3/lib/python3.7/site-packages/sklearn/linear_model/logistic.py:432: FutureWarning: Default solver will be changed to 'lbfgs' in 0.22. Specify a solver to silence this warning.\n",
      "  FutureWarning)\n",
      "/Users/karthikanand/anaconda3/lib/python3.7/site-packages/sklearn/linear_model/logistic.py:432: FutureWarning: Default solver will be changed to 'lbfgs' in 0.22. Specify a solver to silence this warning.\n",
      "  FutureWarning)\n",
      "/Users/karthikanand/anaconda3/lib/python3.7/site-packages/sklearn/linear_model/logistic.py:432: FutureWarning: Default solver will be changed to 'lbfgs' in 0.22. Specify a solver to silence this warning.\n",
      "  FutureWarning)\n",
      "/Users/karthikanand/anaconda3/lib/python3.7/site-packages/sklearn/linear_model/logistic.py:432: FutureWarning: Default solver will be changed to 'lbfgs' in 0.22. Specify a solver to silence this warning.\n",
      "  FutureWarning)\n",
      "/Users/karthikanand/anaconda3/lib/python3.7/site-packages/sklearn/linear_model/logistic.py:432: FutureWarning: Default solver will be changed to 'lbfgs' in 0.22. Specify a solver to silence this warning.\n",
      "  FutureWarning)\n",
      "/Users/karthikanand/anaconda3/lib/python3.7/site-packages/sklearn/linear_model/logistic.py:432: FutureWarning: Default solver will be changed to 'lbfgs' in 0.22. Specify a solver to silence this warning.\n",
      "  FutureWarning)\n",
      "/Users/karthikanand/anaconda3/lib/python3.7/site-packages/sklearn/linear_model/logistic.py:432: FutureWarning: Default solver will be changed to 'lbfgs' in 0.22. Specify a solver to silence this warning.\n",
      "  FutureWarning)\n",
      "/Users/karthikanand/anaconda3/lib/python3.7/site-packages/sklearn/linear_model/logistic.py:432: FutureWarning: Default solver will be changed to 'lbfgs' in 0.22. Specify a solver to silence this warning.\n",
      "  FutureWarning)\n",
      "/Users/karthikanand/anaconda3/lib/python3.7/site-packages/sklearn/linear_model/logistic.py:432: FutureWarning: Default solver will be changed to 'lbfgs' in 0.22. Specify a solver to silence this warning.\n",
      "  FutureWarning)\n",
      "/Users/karthikanand/anaconda3/lib/python3.7/site-packages/sklearn/linear_model/logistic.py:432: FutureWarning: Default solver will be changed to 'lbfgs' in 0.22. Specify a solver to silence this warning.\n",
      "  FutureWarning)\n",
      "/Users/karthikanand/anaconda3/lib/python3.7/site-packages/sklearn/linear_model/logistic.py:432: FutureWarning: Default solver will be changed to 'lbfgs' in 0.22. Specify a solver to silence this warning.\n",
      "  FutureWarning)\n",
      "/Users/karthikanand/anaconda3/lib/python3.7/site-packages/sklearn/linear_model/logistic.py:432: FutureWarning: Default solver will be changed to 'lbfgs' in 0.22. Specify a solver to silence this warning.\n",
      "  FutureWarning)\n",
      "/Users/karthikanand/anaconda3/lib/python3.7/site-packages/sklearn/linear_model/logistic.py:432: FutureWarning: Default solver will be changed to 'lbfgs' in 0.22. Specify a solver to silence this warning.\n",
      "  FutureWarning)\n",
      "/Users/karthikanand/anaconda3/lib/python3.7/site-packages/sklearn/linear_model/logistic.py:432: FutureWarning: Default solver will be changed to 'lbfgs' in 0.22. Specify a solver to silence this warning.\n",
      "  FutureWarning)\n"
     ]
    },
    {
     "name": "stdout",
     "output_type": "stream",
     "text": [
      "Best C is 9165.080622201867 with best FNR of 0.10160427807486631.\n"
     ]
    }
   ],
   "source": [
    "best_c, best_fnr = 1, 1\n",
    "for _ in range(20):\n",
    "    c = random.uniform(1, 10000)\n",
    "    logistic = linear_model.LogisticRegression(C=c, class_weight=\"balanced\")\n",
    "    logistic.fit(X_train, y_train)\n",
    "    #print(\"Score: \", logistic.score(X_test, y_test))\n",
    "    y_predicted2 = np.array(logistic.predict(X_test))\n",
    "    y_right2 = np.array(y_test)\n",
    "    confusion_matrix2 = ConfusionMatrix(y_right2, y_predicted2)\n",
    "    #print(\"Confusion matrix:\\n%s\" % confusion_matrix2)\n",
    "    #confusion_matrix2.plot(normalized=True)\n",
    "    #plt.show()\n",
    "    #confusion_matrix2.print_stats()\n",
    "    fnr = confusion_matrix2.stats()['FNR']\n",
    "    if fnr < best_fnr:\n",
    "        best_fnr = fnr\n",
    "        best_c = c\n",
    "print(\"Best C is {0} with best FNR of {1}.\".format(best_c, best_fnr))"
   ]
  },
  {
   "cell_type": "code",
   "execution_count": null,
   "metadata": {
    "collapsed": true
   },
   "outputs": [],
   "source": []
  }
 ],
 "metadata": {
  "anaconda-cloud": {},
  "kernelspec": {
   "display_name": "Python 3",
   "language": "python",
   "name": "python3"
  },
  "language_info": {
   "codemirror_mode": {
    "name": "ipython",
    "version": 3
   },
   "file_extension": ".py",
   "mimetype": "text/x-python",
   "name": "python",
   "nbconvert_exporter": "python",
   "pygments_lexer": "ipython3",
   "version": "3.7.3"
  }
 },
 "nbformat": 4,
 "nbformat_minor": 1
}
